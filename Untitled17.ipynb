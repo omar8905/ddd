{
 "cells": [
  {
   "cell_type": "code",
   "execution_count": 23,
   "id": "34d1c171-3021-4b0d-b421-8f91bb26ad18",
   "metadata": {},
   "outputs": [
    {
     "name": "stdin",
     "output_type": "stream",
     "text": [
      "Please Enter The First Number:  5\n",
      "Please Enter The Second Number:  0\n",
      "enter op. /\n"
     ]
    },
    {
     "name": "stdout",
     "output_type": "stream",
     "text": [
      "Error: Division by zero is not allowed.\n"
     ]
    }
   ],
   "source": [
    "first_number = int(input(\"Please Enter The First Number: \"))\n",
    "second_number = int(input(\"Please Enter The Second Number: \"))\n",
    "operation = input(\"enter op.\")\n",
    "\n",
    "def add():\n",
    "    print(first_number + second_number)\n",
    "\n",
    "def subtract():\n",
    "    print(first_number - second_number)\n",
    "\n",
    "def multiply():\n",
    "    print(first_number * second_number)\n",
    "\n",
    "def divide():\n",
    "    if second_number == 0:\n",
    "        print(\"Error: Division by zero is not allowed.\")\n",
    "    else:\n",
    "        print(first_number / second_number)\n",
    "if (operation == \"+\"):\n",
    "    add()\n",
    "elif (operation == \"-\"):\n",
    "    subtract()\n",
    "elif (operation == \"*\"):\n",
    "    multiply()\n",
    "else:\n",
    "    divide()\n",
    "\n",
    "#subtract()\n",
    "#multiply()\n",
    "#divide()"
   ]
  },
  {
   "cell_type": "code",
   "execution_count": null,
   "id": "0b64798f-8a38-40bf-8c29-20c4bb43a509",
   "metadata": {},
   "outputs": [],
   "source": []
  }
 ],
 "metadata": {
  "kernelspec": {
   "display_name": "Python 3 (ipykernel)",
   "language": "python",
   "name": "python3"
  },
  "language_info": {
   "codemirror_mode": {
    "name": "ipython",
    "version": 3
   },
   "file_extension": ".py",
   "mimetype": "text/x-python",
   "name": "python",
   "nbconvert_exporter": "python",
   "pygments_lexer": "ipython3",
   "version": "3.11.7"
  }
 },
 "nbformat": 4,
 "nbformat_minor": 5
}
